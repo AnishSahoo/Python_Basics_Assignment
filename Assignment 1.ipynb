{
 "cells": [
  {
   "cell_type": "code",
   "execution_count": null,
   "id": "7abab890",
   "metadata": {},
   "outputs": [],
   "source": [
    "1. In the below elements which of them are values or an expression? eg:- values can be\n",
    "integer or string and expressions will be mathematical operators.\n",
    "* - expressions\n",
    "# 'hello'  - values\n",
    "-87.8 - values\n",
    "- - expression\n",
    "/ - expression\n",
    "+ - expression\n",
    "6 - values"
   ]
  },
  {
   "cell_type": "code",
   "execution_count": null,
   "id": "afa74b78",
   "metadata": {},
   "outputs": [],
   "source": [
    "2. What is the difference between string and variable?\n",
    "\n",
    "# Strings are collections of values within '' or \" \" quotes .\n",
    "# Variable is the container for storing data values."
   ]
  },
  {
   "cell_type": "code",
   "execution_count": null,
   "id": "575638b0",
   "metadata": {},
   "outputs": [],
   "source": [
    "3. Describe three different data types.\n",
    "\n",
    "# Integer datatype(int) stores only integer value i.e. 3,4,5,10,999  \n",
    "# Float datatype(float) stores float value i.e. 3.4, 4.88\n",
    "# complex datatype(complex) i.e. 3+4j, 4+56j\n"
   ]
  },
  {
   "cell_type": "code",
   "execution_count": null,
   "id": "17beab18",
   "metadata": {},
   "outputs": [],
   "source": [
    "4. What is an expression made up of? What do all expressions do?\n",
    "# Expressions is the combination of operators and operands to produce some values.\n"
   ]
  },
  {
   "cell_type": "code",
   "execution_count": null,
   "id": "ac2b2fb8",
   "metadata": {},
   "outputs": [],
   "source": [
    "5. This assignment statements, like spam = 10. What is the difference between an\n",
    "expression and a statement?\n",
    "\n",
    "# Expression produce values where as statement does not produce any values."
   ]
  },
  {
   "cell_type": "code",
   "execution_count": null,
   "id": "9f4482a7",
   "metadata": {},
   "outputs": [],
   "source": [
    "6. After running the following code, what does the variable bacon contain?\n",
    "bacon = 22\n",
    "bacon + 1\n",
    "\n",
    "# bacon = 23"
   ]
  },
  {
   "cell_type": "code",
   "execution_count": null,
   "id": "a6caf996",
   "metadata": {},
   "outputs": [],
   "source": [
    "7. What should the values of the following two terms be?\n",
    "'spam' + 'spamspam'  \n",
    "'spam' * 3 \n",
    "# 'spamspamspam'\n",
    "# 'spamspamspam'\n"
   ]
  },
  {
   "cell_type": "code",
   "execution_count": null,
   "id": "5a2346ce",
   "metadata": {},
   "outputs": [],
   "source": [
    "8. Why is eggs a valid variable name while 100 is invalid?\n",
    "\n",
    "# variable name can not be an integer "
   ]
  },
  {
   "cell_type": "code",
   "execution_count": null,
   "id": "88d7f576",
   "metadata": {},
   "outputs": [],
   "source": [
    "9. What three functions can be used to get the integer, floating-point number, or string\n",
    "version of a value?\n",
    "\n",
    "# In python if we call a variable a= 10,b= 10.4, c= \"Anish\"\n",
    "# It will take a as integer type , b as float type and c as String type"
   ]
  },
  {
   "cell_type": "code",
   "execution_count": null,
   "id": "9bf2277f",
   "metadata": {},
   "outputs": [],
   "source": [
    "10. Why does this expression cause an error? How can you fix it?\n",
    "'I have eaten' + 99 + ' burritos.'\n",
    "\n",
    "# 'I have eaten' + ' 99' + ' burritos.'"
   ]
  },
  {
   "cell_type": "code",
   "execution_count": null,
   "id": "afa04e78",
   "metadata": {},
   "outputs": [],
   "source": []
  }
 ],
 "metadata": {
  "kernelspec": {
   "display_name": "Python 3",
   "language": "python",
   "name": "python3"
  },
  "language_info": {
   "codemirror_mode": {
    "name": "ipython",
    "version": 3
   },
   "file_extension": ".py",
   "mimetype": "text/x-python",
   "name": "python",
   "nbconvert_exporter": "python",
   "pygments_lexer": "ipython3",
   "version": "3.8.8"
  }
 },
 "nbformat": 4,
 "nbformat_minor": 5
}
